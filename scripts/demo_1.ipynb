{
 "cells": [
  {
   "cell_type": "markdown",
   "metadata": {
    "id": "aelcYE3jpQJy"
   },
   "source": [
    "# **Demo Script 1**\n",
    "\n",
    "This is the training portion of our model analysis. To train the model, all of the run 1 data (both fNIRS and fMRI) are loaded. This script will create the model based on the training data, and the model can then be used in the following script (demo 2) in order to determine model performance."
   ]
  },
  {
   "cell_type": "code",
   "execution_count": 1,
   "metadata": {
    "id": "2eLGWcaepB38"
   },
   "outputs": [],
   "source": [
    "import scipy.io as sio\n",
    "import pickle\n",
    "\n",
    "import numpy as np\n",
    "from scipy.stats import pearsonr\n",
    "from sklearn.decomposition import PCA\n",
    "from sklearn.linear_model import LinearRegression"
   ]
  },
  {
   "cell_type": "markdown",
   "metadata": {
    "id": "WaaIJ1m2pd8m"
   },
   "source": [
    "## **Train a model on all of Run 1 Data**"
   ]
  },
  {
   "cell_type": "code",
   "execution_count": 3,
   "metadata": {
    "colab": {
     "base_uri": "https://localhost:8080/"
    },
    "executionInfo": {
     "elapsed": 7682,
     "status": "ok",
     "timestamp": 1722363925957,
     "user": {
      "displayName": "Ryleigh Nash",
      "userId": "00838741508101789492"
     },
     "user_tz": 300
    },
    "id": "4QqNBBVTpS7b",
    "outputId": "030e2682-d757-4c2d-8071-f9f5a17e84c1"
   },
   "outputs": [
    {
     "name": "stdout",
     "output_type": "stream",
     "text": [
      "train_fNIRS shape is (29, 946, 20)\n",
      "train_fMRI shape is (17, 946, 122)\n"
     ]
    }
   ],
   "source": [
    "# load fnirs run 1 data\n",
    "fnirs_file1 = '../data/fnirs/clip1_noUncertain_zhbo_TxRxS.mat'\n",
    "train_fNIRS = sio.loadmat(fnirs_file1)['zhbo_TxRxS'].transpose((2, 0, 1))  # reshape from TxRxS to SxTxR\n",
    "\n",
    "# get shape\n",
    "print(f'train_fNIRS shape is {train_fNIRS.shape}')\n",
    "\n",
    "# load fMRI run 1 data\n",
    "fmri_file1 = '../data/fmri/clip1_undenoised_withcartoon_fillmean_TxRxS.mat'\n",
    "train_fMRI = sio.loadmat(fmri_file1)['bold_TxRxS'].transpose((2, 0, 1))  # reshape from TxRxS to SxTxR\n",
    "# get shape\n",
    "print(f'train_fMRI shape is {train_fMRI.shape}')"
   ]
  },
  {
   "cell_type": "code",
   "execution_count": 4,
   "metadata": {
    "colab": {
     "base_uri": "https://localhost:8080/"
    },
    "executionInfo": {
     "elapsed": 19961,
     "status": "ok",
     "timestamp": 1722364939370,
     "user": {
      "displayName": "Ryleigh Nash",
      "userId": "00838741508101789492"
     },
     "user_tz": 300
    },
    "id": "IzMWatRsphlW",
    "outputId": "c2fb49e9-d3a1-41ea-cb17-73bfaf792a48"
   },
   "outputs": [
    {
     "name": "stdout",
     "output_type": "stream",
     "text": [
      "Model trained...\n"
     ]
    }
   ],
   "source": [
    "# Train model\n",
    "X_num_pcs = 0.9\n",
    "y_num_pcs = 0.9\n",
    "\n",
    "# impute within curr_Xt_SxTxR. impute_nan() input shape: RxTxS\n",
    "train_fNIRS = np.array(\n",
    "    [\n",
    "        np.apply_along_axis(lambda x: np.nan_to_num(x, nan=np.nanmean(x)), axis=1, arr=curr_region) \\\n",
    "            for curr_region in train_fNIRS.transpose((2, 1, 0))  # transpose to shape: RxTxS\n",
    "    ]\n",
    ").transpose((2, 1, 0))\n",
    "\n",
    "# stack Xt and yt\n",
    "train_fNIRS_concat = []\n",
    "train_fMRI_concat = []\n",
    "\n",
    "for subj_X in train_fNIRS:\n",
    "    for subj_y in train_fMRI:\n",
    "        train_fNIRS_concat.append(subj_X)\n",
    "        train_fMRI_concat.append(subj_y)\n",
    "\n",
    "train_fNIRS_concat = np.concatenate(train_fNIRS_concat, axis=0)\n",
    "train_fMRI_concat = np.concatenate(train_fMRI_concat, axis=0)\n",
    "\n",
    "# pca for X\n",
    "X_pca = PCA(n_components=X_num_pcs)\n",
    "X_train_pc = X_pca.fit_transform(train_fNIRS_concat)\n",
    "\n",
    "# pca for y\n",
    "y_pca = PCA(n_components=y_num_pcs)\n",
    "y_train_pc = y_pca.fit_transform(train_fMRI_concat)\n",
    "\n",
    "# fit linear reg model on training set\n",
    "lr_reg = LinearRegression().fit(X=X_train_pc, y=y_train_pc)\n",
    "# get weights\n",
    "lr_weights = lr_reg.coef_   # target (fmri pc) * weights on predictors (fnirs pc)\n",
    "\n",
    "print(\"Model trained...\")\n",
    "\n",
    "# Save the model\n",
    "file_path = '../models/sherlock_run1model.pickle'\n",
    "\n",
    "with open(file_path, 'wb') as f:\n",
    "  pickle.dump([X_pca, y_pca, lr_reg], f)"
   ]
  },
  {
   "cell_type": "code",
   "execution_count": null,
   "metadata": {},
   "outputs": [],
   "source": []
  }
 ],
 "metadata": {
  "colab": {
   "provenance": []
  },
  "kernelspec": {
   "display_name": "Python 3 (ipykernel)",
   "language": "python",
   "name": "python3"
  },
  "language_info": {
   "codemirror_mode": {
    "name": "ipython",
    "version": 3
   },
   "file_extension": ".py",
   "mimetype": "text/x-python",
   "name": "python",
   "nbconvert_exporter": "python",
   "pygments_lexer": "ipython3",
   "version": "3.11.8"
  }
 },
 "nbformat": 4,
 "nbformat_minor": 4
}
