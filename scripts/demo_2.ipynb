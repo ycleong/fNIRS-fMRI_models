{
 "cells": [
  {
   "cell_type": "markdown",
   "metadata": {
    "id": "ZVHn3kAwr0N7"
   },
   "source": [
    "# **Demo Script 2**\n",
    "\n",
    "\n",
    "This script is the testing portion of the trained model analysis. Specifically this script loads in the test fNIRS and fMRI data, as well as the trained model (from demo 1). The trained model is then run on the testing data and the model performance is found.\n"
   ]
  },
  {
   "cell_type": "code",
   "execution_count": 1,
   "metadata": {
    "executionInfo": {
     "elapsed": 2838,
     "status": "ok",
     "timestamp": 1722368428672,
     "user": {
      "displayName": "Ryleigh Nash",
      "userId": "00838741508101789492"
     },
     "user_tz": 300
    },
    "id": "-iy3a-2-r8Nm"
   },
   "outputs": [],
   "source": [
    "import scipy.io as sio\n",
    "import pickle\n",
    "\n",
    "import numpy as np\n",
    "from scipy.stats import pearsonr\n",
    "from sklearn.decomposition import PCA\n",
    "from sklearn.linear_model import LinearRegression"
   ]
  },
  {
   "cell_type": "markdown",
   "metadata": {
    "id": "yMfig4J7sSGc"
   },
   "source": [
    "## **Test the model on all of Run 2 Data**"
   ]
  },
  {
   "cell_type": "code",
   "execution_count": 2,
   "metadata": {
    "colab": {
     "base_uri": "https://localhost:8080/"
    },
    "executionInfo": {
     "elapsed": 3101,
     "status": "ok",
     "timestamp": 1722368432714,
     "user": {
      "displayName": "Ryleigh Nash",
      "userId": "00838741508101789492"
     },
     "user_tz": 300
    },
    "id": "0Qfb1hqLsNzq",
    "outputId": "78e83e4d-fec3-4bed-fd0c-59f2196ce278"
   },
   "outputs": [
    {
     "name": "stdout",
     "output_type": "stream",
     "text": [
      "test_fNIRS shape is (29, 1030, 20)\n",
      "test_fMRI shape is (17, 1030, 122)\n",
      "Model loaded...\n"
     ]
    },
    {
     "name": "stderr",
     "output_type": "stream",
     "text": [
      "/opt/anaconda3/lib/python3.11/site-packages/sklearn/base.py:318: UserWarning: Trying to unpickle estimator PCA from version 1.4.1.post1 when using version 1.2.2. This might lead to breaking code or invalid results. Use at your own risk. For more info please refer to:\n",
      "https://scikit-learn.org/stable/model_persistence.html#security-maintainability-limitations\n",
      "  warnings.warn(\n",
      "/opt/anaconda3/lib/python3.11/site-packages/sklearn/base.py:318: UserWarning: Trying to unpickle estimator LinearRegression from version 1.4.1.post1 when using version 1.2.2. This might lead to breaking code or invalid results. Use at your own risk. For more info please refer to:\n",
      "https://scikit-learn.org/stable/model_persistence.html#security-maintainability-limitations\n",
      "  warnings.warn(\n"
     ]
    }
   ],
   "source": [
    "## Test a model on each subject in Run 2\n",
    "\n",
    "# Load fNIRS test data\n",
    "fnirs_file2 = '../data/fnirs/clip2_noUncertain_zhbo_TxRxS.mat'\n",
    "test_fNIRS = sio.loadmat(fnirs_file2)['zhbo_TxRxS'].transpose((2, 0, 1))  # reshape from TxRxS to SxTxR\n",
    "# get shape\n",
    "print(f'test_fNIRS shape is {test_fNIRS.shape}')\n",
    "\n",
    "# let's impute missing channels with mean of all other channels\n",
    "test_fNIRS = np.array(\n",
    "    [\n",
    "        np.apply_along_axis(lambda x: np.nan_to_num(x, nan=np.nanmean(x)), axis=1, arr=curr_region) \\\n",
    "            for curr_region in test_fNIRS.transpose((2, 1, 0))  # transpose to shape: RxTxS\n",
    "    ]\n",
    ").transpose((2, 1, 0))\n",
    "\n",
    "# load fMRI test data\n",
    "fmri_file2 = '../data/fmri/clip2_undenoised_withcartoon_fillmean_TxRxS.mat'\n",
    "test_fMRI = sio.loadmat(fmri_file2)['bold_TxRxS'].transpose((2, 0, 1))  # reshape from TxRxS to SxTxR\n",
    "test_fMRI_mean = np.mean(test_fMRI, axis=0)  # already imputed, so we use np.mean instead of np.nanmean\n",
    "# get shape\n",
    "print(f'test_fMRI shape is {test_fMRI.shape}')\n",
    "\n",
    "# Load the model\n",
    "file_path = '../models/sherlock_run1model.pickle'\n",
    "with open(file_path, 'rb') as f:\n",
    "   X_pca, y_pca, lr_reg = pickle.load(f)\n",
    "\n",
    "# get pc loadings for X and y\n",
    "X_pca_loadings = X_pca.components_\n",
    "y_pca_loadings = y_pca.components_\n",
    "\n",
    "print(\"Model loaded...\")\n"
   ]
  },
  {
   "cell_type": "code",
   "execution_count": 3,
   "metadata": {
    "colab": {
     "base_uri": "https://localhost:8080/"
    },
    "executionInfo": {
     "elapsed": 11904,
     "status": "ok",
     "timestamp": 1722368454941,
     "user": {
      "displayName": "Ryleigh Nash",
      "userId": "00838741508101789492"
     },
     "user_tz": 300
    },
    "id": "9bD7oTtxuFIa",
    "outputId": "d62cd07e-2c4b-40d4-f497-26a30dbdf2d7"
   },
   "outputs": [],
   "source": [
    "model_performance = []\n",
    "model_predicted_tc = []\n",
    "all_predicted_tc = []\n",
    "\n",
    "for subj in range(test_fNIRS.shape[0]): # range(1): # range(test_fNIRS.shape[0]):\n",
    "  curr_test_fNIRS = test_fNIRS[subj,:,:]\n",
    "  fNIRS_test_pc = X_pca.transform(curr_test_fNIRS)\n",
    "  model_predicted_PC = lr_reg.predict(X=fNIRS_test_pc)\n",
    "  model_predicted_tc = y_pca.inverse_transform(model_predicted_PC)\n",
    "  all_predicted_tc.append(model_predicted_tc)  # Append current prediction to the list\n",
    "  \n",
    "all_predicted_tc = np.stack(all_predicted_tc, axis=0)\n",
    "mean_predicted_tc = np.mean(all_predicted_tc, axis=0)\n"
   ]
  },
  {
   "cell_type": "code",
   "execution_count": 4,
   "metadata": {
    "colab": {
     "base_uri": "https://localhost:8080/"
    },
    "executionInfo": {
     "elapsed": 361,
     "status": "ok",
     "timestamp": 1722368457804,
     "user": {
      "displayName": "Ryleigh Nash",
      "userId": "00838741508101789492"
     },
     "user_tz": 300
    },
    "id": "i3iEhCIHxWgm",
    "outputId": "c07e1a99-16f3-4700-84f5-8101ea556f29"
   },
   "outputs": [
    {
     "name": "stdout",
     "output_type": "stream",
     "text": [
      "0.20922782660684555\n"
     ]
    }
   ],
   "source": [
    "r_values = np.zeros(test_fMRI_mean.shape[1])\n",
    "\n",
    "for region in range(test_fMRI_mean.shape[1]):\n",
    "    # Compute the Pearson correlation for each brain region\n",
    "    r_values[region], _ = pearsonr(mean_predicted_tc[:, region], test_fMRI_mean[:, region])\n",
    "\n",
    "median_model_performance = np.median(r_values)\n",
    "\n",
    "print(median_model_performance)"
   ]
  },
  {
   "cell_type": "code",
   "execution_count": 5,
   "metadata": {
    "id": "nRaIXKO3xahI"
   },
   "outputs": [],
   "source": [
    "#Saving the model data\n",
    "# Create a dictionary to store the variables\n",
    "data = {'all_predicted_tc': all_predicted_tc,\n",
    "        'mean_predicted_tc': mean_predicted_tc,\n",
    "        'median_model_performance': median_model_performance,\n",
    "        'curr_test_fNIRS': curr_test_fNIRS,\n",
    "        'fNIRS_test_pc': fNIRS_test_pc}\n",
    "\n",
    "#Save the mat file\n",
    "file_path = '../models/model_performance.mat'\n",
    "sio.savemat(file_path, data)"
   ]
  }
 ],
 "metadata": {
  "colab": {
   "authorship_tag": "ABX9TyOEG3M2k08gsxU6bKDbjMfK",
   "provenance": [],
   "toc_visible": true
  },
  "kernelspec": {
   "display_name": "Python 3 (ipykernel)",
   "language": "python",
   "name": "python3"
  },
  "language_info": {
   "codemirror_mode": {
    "name": "ipython",
    "version": 3
   },
   "file_extension": ".py",
   "mimetype": "text/x-python",
   "name": "python",
   "nbconvert_exporter": "python",
   "pygments_lexer": "ipython3",
   "version": "3.11.7"
  }
 },
 "nbformat": 4,
 "nbformat_minor": 4
}
