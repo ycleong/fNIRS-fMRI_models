{
 "cells": [
  {
   "cell_type": "markdown",
   "metadata": {
    "id": "ZVHn3kAwr0N7"
   },
   "source": [
    "# **Demo Script 2**\n",
    "\n",
    "\n",
    "This script is the testing portion of the trained model analysis. Specifically this script loads in the test fNIRS and fMRI data, as well as the trained model (from demo 1). The trained model is then run on the testing data and the model performance is found.\n"
   ]
  },
  {
   "cell_type": "code",
   "execution_count": 1,
   "metadata": {
    "executionInfo": {
     "elapsed": 2838,
     "status": "ok",
     "timestamp": 1722368428672,
     "user": {
      "displayName": "Ryleigh Nash",
      "userId": "00838741508101789492"
     },
     "user_tz": 300
    },
    "id": "-iy3a-2-r8Nm"
   },
   "outputs": [],
   "source": [
    "import scipy.io as sio\n",
    "import pickle\n",
    "\n",
    "import numpy as np\n",
    "from scipy.stats import pearsonr\n",
    "from sklearn.decomposition import PCA\n",
    "from sklearn.linear_model import LinearRegression"
   ]
  },
  {
   "cell_type": "markdown",
   "metadata": {
    "id": "yMfig4J7sSGc"
   },
   "source": [
    "## **Test the model on all of Run 2 Data**"
   ]
  },
  {
   "cell_type": "code",
   "execution_count": 2,
   "metadata": {
    "colab": {
     "base_uri": "https://localhost:8080/"
    },
    "executionInfo": {
     "elapsed": 3101,
     "status": "ok",
     "timestamp": 1722368432714,
     "user": {
      "displayName": "Ryleigh Nash",
      "userId": "00838741508101789492"
     },
     "user_tz": 300
    },
    "id": "0Qfb1hqLsNzq",
    "outputId": "78e83e4d-fec3-4bed-fd0c-59f2196ce278"
   },
   "outputs": [
    {
     "name": "stdout",
     "output_type": "stream",
     "text": [
      "test_fNIRS shape is (29, 1030, 20)\n",
      "test_fMRI shape is (17, 1030, 122)\n",
      "Model loaded...\n"
     ]
    },
    {
     "name": "stderr",
     "output_type": "stream",
     "text": [
      "/opt/anaconda3/lib/python3.11/site-packages/sklearn/base.py:318: UserWarning: Trying to unpickle estimator PCA from version 1.4.1.post1 when using version 1.2.2. This might lead to breaking code or invalid results. Use at your own risk. For more info please refer to:\n",
      "https://scikit-learn.org/stable/model_persistence.html#security-maintainability-limitations\n",
      "  warnings.warn(\n",
      "/opt/anaconda3/lib/python3.11/site-packages/sklearn/base.py:318: UserWarning: Trying to unpickle estimator LinearRegression from version 1.4.1.post1 when using version 1.2.2. This might lead to breaking code or invalid results. Use at your own risk. For more info please refer to:\n",
      "https://scikit-learn.org/stable/model_persistence.html#security-maintainability-limitations\n",
      "  warnings.warn(\n"
     ]
    }
   ],
   "source": [
    "## Test a model on each subject in Run 2\n",
    "\n",
    "# Load fNIRS test data\n",
    "fnirs_file2 = '../data/fnirs/clip2_noUncertain_zhbo_TxRxS.mat'\n",
    "test_fNIRS = sio.loadmat(fnirs_file2)['zhbo_TxRxS'].transpose((2, 0, 1))  # reshape from TxRxS to SxTxR\n",
    "# get shape\n",
    "print(f'test_fNIRS shape is {test_fNIRS.shape}')\n",
    "\n",
    "# let's impute missing channels with mean of all other channels\n",
    "test_fNIRS = np.array(\n",
    "    [\n",
    "        np.apply_along_axis(lambda x: np.nan_to_num(x, nan=np.nanmean(x)), axis=1, arr=curr_region) \\\n",
    "            for curr_region in test_fNIRS.transpose((2, 1, 0))  # transpose to shape: RxTxS\n",
    "    ]\n",
    ").transpose((2, 1, 0))\n",
    "\n",
    "# load fMRI test data\n",
    "fmri_file2 = '../data/fmri/clip2_undenoised_withcartoon_fillmean_TxRxS.mat'\n",
    "test_fMRI = sio.loadmat(fmri_file2)['bold_TxRxS'].transpose((2, 0, 1))  # reshape from TxRxS to SxTxR\n",
    "test_fMRI_mean = np.mean(test_fMRI, axis=0)  # already imputed, so we use np.mean instead of np.nanmean\n",
    "# get shape\n",
    "print(f'test_fMRI shape is {test_fMRI.shape}')\n",
    "\n",
    "# Load the model\n",
    "file_path = '../models/sherlock_run1model.pickle'\n",
    "with open(file_path, 'rb') as f:\n",
    "   X_pca, y_pca, lr_reg = pickle.load(f)\n",
    "\n",
    "# get pc loadings for X and y\n",
    "X_pca_loadings = X_pca.components_\n",
    "y_pca_loadings = y_pca.components_\n",
    "\n",
    "print(\"Model loaded...\")\n"
   ]
  },
  {
   "cell_type": "code",
   "execution_count": 7,
   "metadata": {
    "colab": {
     "base_uri": "https://localhost:8080/"
    },
    "executionInfo": {
     "elapsed": 11904,
     "status": "ok",
     "timestamp": 1722368454941,
     "user": {
      "displayName": "Ryleigh Nash",
      "userId": "00838741508101789492"
     },
     "user_tz": 300
    },
    "id": "9bD7oTtxuFIa",
    "outputId": "d62cd07e-2c4b-40d4-f497-26a30dbdf2d7"
   },
   "outputs": [
    {
     "ename": "NameError",
     "evalue": "name 'r_values' is not defined",
     "output_type": "error",
     "traceback": [
      "\u001b[0;31m---------------------------------------------------------------------------\u001b[0m",
      "\u001b[0;31mNameError\u001b[0m                                 Traceback (most recent call last)",
      "Cell \u001b[0;32mIn[7], line 17\u001b[0m\n\u001b[1;32m     13\u001b[0m mean_predicted_tc \u001b[38;5;241m=\u001b[39m np\u001b[38;5;241m.\u001b[39mmean(all_predicted_tc, axis\u001b[38;5;241m=\u001b[39m\u001b[38;5;241m0\u001b[39m)\n\u001b[1;32m     15\u001b[0m \u001b[38;5;28;01mfor\u001b[39;00m region \u001b[38;5;129;01min\u001b[39;00m \u001b[38;5;28mrange\u001b[39m(test_fMRI_mean\u001b[38;5;241m.\u001b[39mshape[\u001b[38;5;241m1\u001b[39m]):\n\u001b[1;32m     16\u001b[0m     \u001b[38;5;66;03m# Compute the Pearson correlation between the corresponding columns\u001b[39;00m\n\u001b[0;32m---> 17\u001b[0m     r_values[region], _ \u001b[38;5;241m=\u001b[39m pearsonr(mean_predicted_tc[:, region], test_fMRI_mean[:, region])\n\u001b[1;32m     19\u001b[0m \u001b[38;5;28mprint\u001b[39m(r_values)\n",
      "\u001b[0;31mNameError\u001b[0m: name 'r_values' is not defined"
     ]
    }
   ],
   "source": [
    "model_performance = []\n",
    "model_predicted_tc = []\n",
    "all_predicted_tc = []\n",
    "\n",
    "for subj in range(test_fNIRS.shape[0]): # range(1): # range(test_fNIRS.shape[0]):\n",
    "  curr_test_fNIRS = test_fNIRS[subj,:,:]\n",
    "  fNIRS_test_pc = X_pca.transform(curr_test_fNIRS)\n",
    "  model_predicted_PC = lr_reg.predict(X=fNIRS_test_pc)\n",
    "  model_predicted_tc = y_pca.inverse_transform(model_predicted_PC)\n",
    "  all_predicted_tc.append(model_predicted_tc)  # Append current prediction to the list\n",
    "  \n",
    "all_predicted_tc = np.stack(all_predicted_tc, axis=0)\n",
    "mean_predicted_tc = np.mean(all_predicted_tc, axis=0)\n"
   ]
  },
  {
   "cell_type": "code",
   "execution_count": 9,
   "metadata": {
    "colab": {
     "base_uri": "https://localhost:8080/"
    },
    "executionInfo": {
     "elapsed": 361,
     "status": "ok",
     "timestamp": 1722368457804,
     "user": {
      "displayName": "Ryleigh Nash",
      "userId": "00838741508101789492"
     },
     "user_tz": 300
    },
    "id": "i3iEhCIHxWgm",
    "outputId": "c07e1a99-16f3-4700-84f5-8101ea556f29"
   },
   "outputs": [
    {
     "name": "stdout",
     "output_type": "stream",
     "text": [
      "[0.02370384 0.1304476  0.1101977  0.16218306 0.2206579  0.12373179\n",
      " 0.05847062 0.03615254 0.03425395 0.10255468 0.11470048 0.1526089\n",
      " 0.28526158 0.26305039 0.20785858 0.14195165 0.17029706 0.15562186\n",
      " 0.09737807 0.22083148 0.24375524 0.12601387 0.15513758 0.16144531\n",
      " 0.32132763 0.20078685 0.20937287 0.18286465 0.22880243 0.22934693\n",
      " 0.20287114 0.36342864 0.32291313 0.34684867 0.44310676 0.2256804\n",
      " 0.38955673 0.44837013 0.48477502 0.411051   0.42601698 0.3624241\n",
      " 0.26507762 0.0675083  0.34680316 0.29863149 0.31536915 0.23862234\n",
      " 0.53538248 0.46552648 0.48754915 0.4089595  0.36836853 0.23487166\n",
      " 0.08108205 0.0471944  0.41901902 0.08448222 0.14807058 0.17846026\n",
      " 0.21860491 0.2394337  0.0847428  0.0577899  0.02326    0.03549927\n",
      " 0.0731244  0.15849488 0.15004488 0.30307511 0.18078733 0.23255673\n",
      " 0.18815621 0.13094894 0.07224627 0.17368831 0.06135048 0.14273404\n",
      " 0.26994531 0.0907178  0.14401546 0.16280381 0.44603788 0.38172941\n",
      " 0.04458572 0.21022668 0.08674869 0.26778239 0.20908278 0.21446445\n",
      " 0.35842817 0.3641829  0.27610854 0.1080457  0.37123584 0.40419933\n",
      " 0.34872915 0.41399006 0.30123172 0.29296003 0.03534789 0.50233069\n",
      " 0.39310887 0.30306627 0.27269964 0.30408844 0.48387428 0.54533739\n",
      " 0.47291741 0.32853815 0.19096897 0.15389453 0.09760756 0.41112972\n",
      " 0.1244588  0.16257071 0.02591875 0.13747439 0.09421784 0.19766795\n",
      " 0.04676477 0.18774078]\n"
     ]
    }
   ],
   "source": [
    "r_values = np.zeros(test_fMRI_mean.shape[1])\n",
    "\n",
    "for region in range(test_fMRI_mean.shape[1]):\n",
    "    # Compute the Pearson correlation between the corresponding columns\n",
    "    r_values[region], _ = pearsonr(mean_predicted_tc[:, region], test_fMRI_mean[:, region])\n",
    "\n",
    "\n",
    "median_model_performance = np.median(r_values)\n",
    "\n",
    "print(median_rvalues"
   ]
  },
  {
   "cell_type": "code",
   "execution_count": null,
   "metadata": {
    "id": "nRaIXKO3xahI"
   },
   "outputs": [],
   "source": [
    "#Saving the model data\n",
    "# Create a dictionary to store the variables\n",
    "data = {'all_predicted_tc': all_predicted_tc,\n",
    "        'mean_predicted_tc': mean_predicted_tc,\n",
    "        'median_model_performance': median_model_performance,\n",
    "        'curr_test_fNIRS': curr_test_fNIRS,\n",
    "        'fNIRS_test_pc': fNIRS_test_pc,\n",
    "        'model_predicted_PC': model_predicted_PC,\n",
    "        'model_performance': model_performance}\n",
    "\n",
    "#Save the mat file\n",
    "file_path = '../models/model_performance.mat'\n",
    "sio.savemat(file_path, data)"
   ]
  },
  {
   "cell_type": "code",
   "execution_count": null,
   "metadata": {},
   "outputs": [],
   "source": []
  }
 ],
 "metadata": {
  "colab": {
   "authorship_tag": "ABX9TyOEG3M2k08gsxU6bKDbjMfK",
   "provenance": [],
   "toc_visible": true
  },
  "kernelspec": {
   "display_name": "Python 3 (ipykernel)",
   "language": "python",
   "name": "python3"
  },
  "language_info": {
   "codemirror_mode": {
    "name": "ipython",
    "version": 3
   },
   "file_extension": ".py",
   "mimetype": "text/x-python",
   "name": "python",
   "nbconvert_exporter": "python",
   "pygments_lexer": "ipython3",
   "version": "3.11.7"
  }
 },
 "nbformat": 4,
 "nbformat_minor": 4
}
